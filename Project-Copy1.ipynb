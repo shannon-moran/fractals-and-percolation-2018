{
 "cells": [
  {
   "cell_type": "markdown",
   "metadata": {},
   "source": [
    "# Modeling explosive percolation\n",
    "\n",
    "Replicating the following: https://journals.aps.org/pre/pdf/10.1103/PhysRevE.97.020301\n",
    "\n",
    "First, need to implement three types of random growth process graphs:\n",
    "* ER\n",
    "* AP: Achlioptas : growth process (AP)\n",
    "* DPR"
   ]
  },
  {
   "cell_type": "code",
   "execution_count": 1,
   "metadata": {},
   "outputs": [],
   "source": [
    "# Auto-reloads external files any changes are automatically reflected\n",
    "%load_ext autoreload\n",
    "%autoreload 2\n",
    "\n",
    "import numpy as np\n",
    "import networkx as nx\n",
    "import random\n",
    "from tqdm import tqdm,tqdm_notebook\n",
    "\n",
    "import matplotlib.pyplot as plt\n",
    "%matplotlib inline\n",
    "\n",
    "SMALL_SIZE = 10\n",
    "MEDIUM_SIZE = 14\n",
    "BIGGER_SIZE = 16\n",
    "\n",
    "plt.rc('font', size=SMALL_SIZE)          # controls default text sizes\n",
    "plt.rc('axes', titlesize=SMALL_SIZE)     # fontsize of the axes title\n",
    "plt.rc('axes', labelsize=MEDIUM_SIZE)    # fontsize of the x and y labels\n",
    "plt.rc('xtick', labelsize=SMALL_SIZE)    # fontsize of the tick labels\n",
    "plt.rc('ytick', labelsize=SMALL_SIZE)    # fontsize of the tick labels\n",
    "plt.rc('legend', fontsize=SMALL_SIZE)    # legend fontsize\n",
    "plt.rc('figure', titlesize=BIGGER_SIZE)  # fontsize of the figure title"
   ]
  },
  {
   "cell_type": "markdown",
   "metadata": {},
   "source": [
    "Mechanistically, the DPR is analogous to the Achlioptas process, the difference being that the criteria used to evaluate edges is the product of node degrees (the number of edges attached to a node) rather than cluster sizes.\n",
    "\n",
    "These are all undirected graphs, which should make the clustering easier.\n",
    "\n",
    "Next steps:\n",
    "1. Need to be able to calculate cluster size.\n",
    "1. Need to get AP working\n",
    "2. Need to be able to take steps forward in time while calculating cluster size"
   ]
  },
  {
   "cell_type": "markdown",
   "metadata": {},
   "source": [
    "Make ER using networkx."
   ]
  },
  {
   "cell_type": "markdown",
   "metadata": {},
   "source": [
    "## Figure 1: Cluster sizes"
   ]
  },
  {
   "cell_type": "code",
   "execution_count": 2,
   "metadata": {},
   "outputs": [],
   "source": [
    "class NetworkGeneration(object):\n",
    "    def __init__(self,N,p,process_name,m=0):\n",
    "        self.N = N # nodes, 3.6e5 in paper\n",
    "        self.p = p\n",
    "        self.m = m\n",
    "        self.t = N*p # edges to add\n",
    "        self.N_list = list(np.arange(self.N).astype(int))\n",
    "        self.process = process_name    \n",
    "    \n",
    "    def build(self):\n",
    "        if self.process=='ER': self.ER()\n",
    "        elif self.process=='AP': self.AP()\n",
    "        elif self.process=='DPR': self.DPR()\n",
    "        else: print('build with a valid process')\n",
    "            \n",
    "    def calculate_edge_product(self,G,edge_tuple):\n",
    "        return (G.degree[edge_tuple[0]]+1)*(G.degree[edge_tuple[1]]+1)\n",
    "\n",
    "    def calculate_edge_cluster_sizes(self,G,edge_tuple):\n",
    "        return len(nx.node_connected_component(G,edge_tuple[0])) + len(nx.node_connected_component(G,edge_tuple[1]))\n",
    "    \n",
    "    def ER(self):\n",
    "        C = []\n",
    "        G = nx.Graph()\n",
    "        G.add_nodes_from(np.arange(self.N))\n",
    "        pbar = tqdm_notebook(total=(self.t),desc=\"Building an ER network\")\n",
    "        while len(G.edges)<self.t:\n",
    "            proposed_edge = (random.choice(self.N_list),random.choice(self.N_list))\n",
    "            G.add_edge(proposed_edge[0],proposed_edge[1])\n",
    "            C.append(len(max(nx.connected_component_subgraphs(G), key=len))/self.N)\n",
    "            pbar.update(len(G.edges))\n",
    "        pbar.close()\n",
    "        self.C = C\n",
    "        self.G = G\n",
    "            \n",
    "    def DPR(self):\n",
    "        # DPR: goes to smallest product of the degrees of connection\n",
    "        C = []\n",
    "        G = nx.Graph()\n",
    "        G.add_nodes_from(np.arange(self.N))\n",
    "        pbar = tqdm_notebook(total=(self.t),desc=\"Building a DPR network\")\n",
    "        while len(G.edges)<self.t:\n",
    "            proposed_edges = [(random.choice(self.N_list),random.choice(self.N_list)) for _ in range(self.m)]\n",
    "            proposed_edge_weights = [self.calculate_edge_product(G,edge_tuple) for edge_tuple in proposed_edges]\n",
    "            winning_edge = proposed_edges[proposed_edge_weights.index(min(proposed_edge_weights))]\n",
    "            G.add_edge(winning_edge[0],winning_edge[1])\n",
    "            C.append(len(max(nx.connected_component_subgraphs(G), key=len))/self.N)\n",
    "            pbar.update(len(G.edges))\n",
    "        pbar.close()\n",
    "        self.C = C\n",
    "        self.G = G\n",
    "            \n",
    "    def AP(self):\n",
    "        # AP: goes to smallest sum of clusters connected to each node\n",
    "        C = []\n",
    "        G = nx.Graph()\n",
    "        G.add_nodes_from(np.arange(self.N))\n",
    "        pbar = tqdm_notebook(total=(self.t),desc=\"Building an AP network\")\n",
    "        while len(G.edges)<self.t:\n",
    "            proposed_edges = [(random.choice(self.N_list),random.choice(self.N_list)) for _ in range(self.m)]\n",
    "            proposed_edge_weights = [self.calculate_edge_cluster_sizes(G,edge_tuple) for edge_tuple in proposed_edges]\n",
    "            winning_edge = proposed_edges[proposed_edge_weights.index(min(proposed_edge_weights))]\n",
    "            G.add_edge(winning_edge[0],winning_edge[1])\n",
    "            C.append(len(max(nx.connected_component_subgraphs(G), key=len))/self.N)\n",
    "            pbar.update(len(G.edges))\n",
    "        pbar.close()\n",
    "        self.C = C\n",
    "        self.G = G"
   ]
  },
  {
   "cell_type": "code",
   "execution_count": 3,
   "metadata": {},
   "outputs": [],
   "source": [
    "N = 1e3 # nodes, 3.6e5 in paper\n",
    "p = 1.0"
   ]
  },
  {
   "cell_type": "code",
   "execution_count": 5,
   "metadata": {},
   "outputs": [],
   "source": [
    "N = 1e3 # nodes, 3.6e5 in paper\n",
    "p = 1.0\n",
    "\n",
    "test_ER = NetworkGeneration(N,p,'ER')\n",
    "test_ER.build()\n",
    "\n",
    "test_DPR = NetworkGeneration(N,p,'DPR',m=2)\n",
    "test_DPR.build()\n",
    "\n",
    "test_AP = NetworkGeneration(N,p,'AP',m=2)\n",
    "test_AP.build()"
   ]
  },
  {
   "cell_type": "code",
   "execution_count": 12,
   "metadata": {},
   "outputs": [
    {
     "data": {
      "image/png": "[encoded data removed]",
      "text/plain": [
       "<Figure size 432x288 with 1 Axes>"
      ]
     },
     "metadata": {},
     "output_type": "display_data"
    }
   ],
   "source": [
    "t_range = np.arange(N*p+1)/N\n",
    "plt.plot(t_range,test_ER.C,'r--',t_range[:-1],test_DPR.C,'b-',t_range,test_AP.C[:-1],'g-.')\n",
    "plt.ylabel('C/N')\n",
    "plt.xlabel('t/N')\n",
    "plt.ylim(0.0,1.0)\n",
    "plt.xlim(0.0,1.0)\n",
    "plt.show()"
   ]
  },
  {
   "cell_type": "markdown",
   "metadata": {},
   "source": [
    "## Figure 2"
   ]
  },
  {
   "cell_type": "markdown",
   "metadata": {},
   "source": [
    "The paper doesn't actually say what p value this is for."
   ]
  },
  {
   "cell_type": "code",
   "execution_count": 4,
   "metadata": {},
   "outputs": [],
   "source": [
    "def binary_search(G,C,start,end,largest_jump):\n",
    "    # x-values\n",
    "    midpoint = int((end+start)/2)\n",
    "    \n",
    "    # y-values\n",
    "    head = C[int(start)]\n",
    "    mid = C[midpoint]\n",
    "    tail = C[int(end)]\n",
    "        \n",
    "    # If start and end are only one step removed from on another, then search is complete\n",
    "    if abs(end-start)==1:\n",
    "        if (tail-head)>largest_jump: largest_jump = (tail-head)\n",
    "        return largest_jump\n",
    "    # Check which side of the midpoint the largest jump is on\n",
    "    elif (mid-head)>(tail-mid):\n",
    "        if (mid-head)>(len(G.nodes)*0.01):\n",
    "            largest_jump = (mid-head)\n",
    "            return binary_search(G,C,int(start),int(midpoint),largest_jump)\n",
    "    elif (tail-mid)>(len(G.nodes)*0.01):\n",
    "        largest_jump = (tail-mid)\n",
    "        return binary_search(G,C,int(midpoint),int(end),largest_jump)\n",
    "    return largest_jump"
   ]
  },
  {
   "cell_type": "code",
   "execution_count": null,
   "metadata": {},
   "outputs": [],
   "source": [
    "N_range = np.linspace(1e1, 5e2, num=5)"
   ]
  },
  {
   "cell_type": "code",
   "execution_count": null,
   "metadata": {},
   "outputs": [],
   "source": [
    "# N_range = np.logspace(1e1, 5e2, num=5)\n",
    "N_range = np.linspace(1e1, 5e2, num=5)\n",
    "\n",
    "# First did 5, now try 1\n",
    "p = 1.0\n",
    "\n",
    "start = 0\n",
    "F2_DPR_2_Cmax = []\n",
    "F2_DPR_10_Cmax = []\n",
    "F2_DPR_50_Cmax = []\n",
    "F2_ER_Cmax = []\n",
    "\n",
    "for N_test in N_range:\n",
    "    print(N_test)\n",
    "    end = N_test*p-1\n",
    "    F2_ER = NetworkGeneration(N_test,p,'ER')\n",
    "    F2_ER.build()\n",
    "    F2_ER_Cmax.append(binary_search(F2_ER.G,[c*N_test for c in F2_ER.C],start,end,0)/N_test)\n",
    "    F2_DPR_2 = NetworkGeneration(N_test,p,'DPR',m=2)\n",
    "    F2_DPR_2.build()\n",
    "    F2_DPR_2_Cmax.append(binary_search(F2_DPR_2.G,[c*N_test for c in F2_DPR_2.C],start,end,0)/N_test)\n",
    "    F2_DPR_10 = NetworkGeneration(N_test,p,'DPR',m=10)\n",
    "    F2_DPR_10.build()\n",
    "    F2_DPR_10_Cmax.append(binary_search(F2_DPR_10.G,[c*N_test for c in F2_DPR_10.C],start,end,0)/N_test)\n",
    "    F2_DPR_50 = NetworkGeneration(N_test,p,'DPR',m=50)\n",
    "    F2_DPR_50.build()\n",
    "    F2_DPR_50_Cmax.append(binary_search(F2_DPR_50.G,[c*N_test for c in F2_DPR_50.C],start,end,0)/N_test)"
   ]
  },
  {
   "cell_type": "code",
   "execution_count": null,
   "metadata": {},
   "outputs": [],
   "source": [
    "plt.loglog(N_range,F2_DPR_2_Cmax,'bo-',N_range,F2_DPR_10_Cmax,'ro-',N_range,F2_DPR_50_Cmax,'go-')\n",
    "plt.loglog(N_range,F2_ER_Cmax,'k-.')\n",
    "plt.ylabel(r'${\\Delta}C_{max}$/N')\n",
    "plt.xlabel('N')\n",
    "plt.ylim(5e-3,1e0)\n",
    "plt.xlim(1e1,1e3)\n",
    "plt.show()"
   ]
  },
  {
   "cell_type": "markdown",
   "metadata": {},
   "source": [
    "## Figure 3\n",
    "This p value is 5."
   ]
  },
  {
   "cell_type": "code",
   "execution_count": 10,
   "metadata": {},
   "outputs": [
    {
     "data": {
      "application/vnd.jupyter.widget-view+json": {
       "model_id": "cb70cb55aeca4ec7bf504d0071a82a68",
       "version_major": 2,
       "version_minor": 0
      },
      "text/plain": [
       "HBox(children=(IntProgress(value=0, description='Building an ER network', max=5000, style=ProgressStyle(descri…"
      ]
     },
     "metadata": {},
     "output_type": "display_data"
    },
    {
     "name": "stdout",
     "output_type": "stream",
     "text": [
      "\n"
     ]
    },
    {
     "data": {
      "application/vnd.jupyter.widget-view+json": {
       "model_id": "0b5aca0130604663bfb268e8833e5a16",
       "version_major": 2,
       "version_minor": 0
      },
      "text/plain": [
       "HBox(children=(IntProgress(value=0, description='Building a DPR network', max=5000, style=ProgressStyle(descri…"
      ]
     },
     "metadata": {},
     "output_type": "display_data"
    },
    {
     "name": "stdout",
     "output_type": "stream",
     "text": [
      "\n"
     ]
    },
    {
     "data": {
      "application/vnd.jupyter.widget-view+json": {
       "model_id": "c91964590bf44ad0a28d966e91af751c",
       "version_major": 2,
       "version_minor": 0
      },
      "text/plain": [
       "HBox(children=(IntProgress(value=0, description='Building an AP network', max=5000, style=ProgressStyle(descri…"
      ]
     },
     "metadata": {},
     "output_type": "display_data"
    },
    {
     "name": "stdout",
     "output_type": "stream",
     "text": [
      "\n"
     ]
    }
   ],
   "source": [
    "N = 1e3 # nodes, 3.6e5 in paper\n",
    "p = 5\n",
    "\n",
    "F3_ER = NetworkGeneration(N,p,'ER')\n",
    "F3_ER.build()\n",
    "\n",
    "F3_DPR = NetworkGeneration(N,p,'DPR',m=2)\n",
    "F3_DPR.build()\n",
    "\n",
    "F3_AP = NetworkGeneration(N,p,'AP',m=2)\n",
    "F3_AP.build()"
   ]
  },
  {
   "cell_type": "code",
   "execution_count": 11,
   "metadata": {},
   "outputs": [],
   "source": [
    "bins = np.arange(17)\n",
    "ER_hist,_ = np.histogram([d/2 for n, d in F3_ER.G.degree()],bins=bins)\n",
    "DPR_hist,_ = np.histogram([d/2 for n, d in F3_DPR.G.degree()],bins=bins)\n",
    "AP_hist,_ = np.histogram([d/2 for n, d in F3_AP.G.degree()],bins=bins)"
   ]
  },
  {
   "cell_type": "markdown",
   "metadata": {},
   "source": [
    "Need to come back and revisit this to remove the divide by 2 hack job..."
   ]
  },
  {
   "cell_type": "code",
   "execution_count": 12,
   "metadata": {},
   "outputs": [
    {
     "data": {
      "image/png": "[encoded data removed]",
      "text/plain": [
       "<Figure size 432x288 with 1 Axes>"
      ]
     },
     "metadata": {},
     "output_type": "display_data"
    }
   ],
   "source": [
    "x = bins[:-1]\n",
    "plt.plot(x,ER_hist/N,'r.--',x,DPR_hist/N,'b.-',x,AP_hist/N,'g-.')\n",
    "plt.ylabel('P(d)')\n",
    "plt.xlabel('d')\n",
    "plt.ylim(0.0,0.6)\n",
    "plt.xlim(0,15)\n",
    "plt.show()"
   ]
  },
  {
   "cell_type": "markdown",
   "metadata": {},
   "source": [
    "## Figure 4: Critical behavior\n",
    "In this case, they don't give me m!\n",
    "* need to calculate average cluster size; should be pretty straight-forward"
   ]
  },
  {
   "cell_type": "code",
   "execution_count": 33,
   "metadata": {},
   "outputs": [],
   "source": [
    "N_range = np.linspace(1e1, 1e3, num=5)\n",
    "\n",
    "# pc = 0.763\n",
    "largest_cluster_a = []\n",
    "average_cluster_size_a = []\n",
    "largest_cluster_b = []\n",
    "average_cluster_size_b = []\n",
    "largest_cluster_c = []\n",
    "average_cluster_size_c = []\n",
    "for N_test in N_range:\n",
    "    F4_DPR_c = NetworkGeneration(N_test,0.763,'DPR',m=2)\n",
    "    F4_DPR_c.build()\n",
    "    largest_cluster_c.append(max(F4_DPR_c.C))\n",
    "    average_cluster_size_c.append(sum([len(s)**2/1e3 for s in list(nx.connected_components(F4_DPR_c.G))]))\n",
    "    F4_DPR_a = NetworkGeneration(N_test,0.77,'DPR',m=2)\n",
    "    F4_DPR_a.build()\n",
    "    largest_cluster_a.append(max(F4_DPR_a.C))\n",
    "    average_cluster_size_a.append(sum([len(s)**2/1e3 for s in list(nx.connected_components(F4_DPR_a.G))]))\n",
    "    F4_DPR_b = NetworkGeneration(N_test,0.75,'DPR',m=2)\n",
    "    F4_DPR_b.build()\n",
    "    largest_cluster_b.append(max(F4_DPR_b.C))\n",
    "    average_cluster_size_b.append(sum([len(s)**2/1e3 for s in list(nx.connected_components(F4_DPR_b.G))]))"
   ]
  },
  {
   "cell_type": "code",
   "execution_count": 37,
   "metadata": {},
   "outputs": [
    {
     "data": {
      "image/png": "[encoded data removed]",
      "text/plain": [
       "<Figure size 432x288 with 1 Axes>"
      ]
     },
     "metadata": {},
     "output_type": "display_data"
    }
   ],
   "source": [
    "plt.loglog(N_range,largest_cluster_c,'ro-',N_range,largest_cluster_a,'go-',N_range,largest_cluster_b,'bo-')\n",
    "plt.ylabel('C/N')\n",
    "plt.xlabel('N')\n",
    "plt.ylim(1e-3,1e0)\n",
    "plt.xlim(1e1,1e3)\n",
    "plt.show()"
   ]
  },
  {
   "cell_type": "code",
   "execution_count": 36,
   "metadata": {},
   "outputs": [
    {
     "data": {
      "image/png": "[encoded data removed]",
      "text/plain": [
       "<Figure size 432x288 with 1 Axes>"
      ]
     },
     "metadata": {},
     "output_type": "display_data"
    }
   ],
   "source": [
    "plt.loglog(N_range,average_cluster_size_c,'ro-',N_range,average_cluster_size_a,'go-',N_range,average_cluster_size_b,'bo-')\n",
    "plt.ylabel('S')\n",
    "plt.xlabel('N')\n",
    "plt.ylim(1e0,1e3)\n",
    "plt.xlim(1e1,1e3)\n",
    "plt.show()"
   ]
  },
  {
   "cell_type": "code",
   "execution_count": null,
   "metadata": {},
   "outputs": [],
   "source": []
  }
 ],
 "metadata": {
  "kernelspec": {
   "display_name": "Python 3",
   "language": "python",
   "name": "python3"
  },
  "language_info": {
   "codemirror_mode": {
    "name": "ipython",
    "version": 3
   },
   "file_extension": ".py",
   "mimetype": "text/x-python",
   "name": "python",
   "nbconvert_exporter": "python",
   "pygments_lexer": "ipython3",
   "version": "3.6.7"
  }
 },
 "nbformat": 4,
 "nbformat_minor": 2
}
