{
 "cells": [
  {
   "cell_type": "markdown",
   "metadata": {},
   "source": [
    "# Modeling explosive percolation\n",
    "\n",
    "Replicating the following: https://journals.aps.org/pre/pdf/10.1103/PhysRevE.97.020301\n",
    "\n",
    "First, need to implement three types of random growth process graphs:\n",
    "* ER\n",
    "* AP: Achlioptas : growth process (AP)\n",
    "* DPR"
   ]
  },
  {
   "cell_type": "code",
   "execution_count": 8,
   "metadata": {},
   "outputs": [],
   "source": [
    "# Auto-reloads external files any changes are automatically reflected\n",
    "%load_ext autoreload\n",
    "%autoreload 2\n",
    "\n",
    "import matplotlib.pyplot as plt\n",
    "%matplotlib inline"
   ]
  },
  {
   "cell_type": "markdown",
   "metadata": {},
   "source": [
    "View adjacency matrices for each algorithm."
   ]
  },
  {
   "cell_type": "code",
   "execution_count": 5,
   "metadata": {},
   "outputs": [],
   "source": [
    "import graphs as g"
   ]
  },
  {
   "cell_type": "code",
   "execution_count": 22,
   "metadata": {},
   "outputs": [],
   "source": [
    "n = int(50)\n",
    "# n = int(1e2)\n",
    "edge_density = 10"
   ]
  },
  {
   "cell_type": "code",
   "execution_count": 32,
   "metadata": {},
   "outputs": [
    {
     "data": {
      "application/vnd.jupyter.widget-view+json": {
       "model_id": "89c2739fce1b4abc9b3280d3ef373972",
       "version_major": 2,
       "version_minor": 0
      },
      "text/plain": [
       "HBox(children=(IntProgress(value=0, description='Building standard ER graph', max=500, style=ProgressStyle(des…"
      ]
     },
     "metadata": {},
     "output_type": "display_data"
    },
    {
     "name": "stdout",
     "output_type": "stream",
     "text": [
      "\n"
     ]
    },
    {
     "data": {
      "image/png": "[encoded data removed]",
      "text/plain": [
       "<Figure size 432x288 with 1 Axes>"
      ]
     },
     "metadata": {},
     "output_type": "display_data"
    }
   ],
   "source": [
    "# Directed Erdos-Renyi (DER)\n",
    "# Need to update to be just ER\n",
    "\n",
    "ER_viz = g.Graph(n,edge_density*n,'ER')\n",
    "ER_viz.build()\n",
    "\n",
    "plt.imshow((ER_viz.edges>0),cmap='binary')\n",
    "plt.title('Erdos-Renyi (DER) network')\n",
    "plt.ylabel('tail')\n",
    "plt.xlabel('head')\n",
    "plt.show()"
   ]
  },
  {
   "cell_type": "code",
   "execution_count": 36,
   "metadata": {},
   "outputs": [
    {
     "data": {
      "application/vnd.jupyter.widget-view+json": {
       "model_id": "537cf144719d431ab134c50404993feb",
       "version_major": 2,
       "version_minor": 0
      },
      "text/plain": [
       "HBox(children=(IntProgress(value=0, description='Building a degree product rule (DPR) network', max=500, style…"
      ]
     },
     "metadata": {},
     "output_type": "display_data"
    },
    {
     "name": "stdout",
     "output_type": "stream",
     "text": [
      "18.76\n",
      "\n"
     ]
    },
    {
     "data": {
      "image/png": "[encoded data removed]",
      "text/plain": [
       "<Figure size 432x288 with 1 Axes>"
      ]
     },
     "metadata": {},
     "output_type": "display_data"
    }
   ],
   "source": [
    "DPR_viz = g.Graph(n,edge_density*n,'DPR')\n",
    "DPR_viz.build()\n",
    "\n",
    "plt.imshow((DPR_viz.edges>0),cmap='binary')\n",
    "plt.title('Degree product rule (DPR) network')\n",
    "plt.ylabel('tail')\n",
    "plt.xlabel('head')\n",
    "plt.show()"
   ]
  },
  {
   "cell_type": "code",
   "execution_count": null,
   "metadata": {},
   "outputs": [],
   "source": [
    "AP_viz = g.Graph(n,edge_density*n,'AP')\n",
    "AP_viz.build()\n",
    "\n",
    "plt.imshow((AP_viz.edges>0),cmap='binary')\n",
    "plt.title('Achlioptas growth process (AP) network')\n",
    "plt.ylabel('tail')\n",
    "plt.xlabel('head')\n",
    "plt.show()"
   ]
  },
  {
   "cell_type": "markdown",
   "metadata": {},
   "source": [
    "Mechanistically, the DPR is analogous to the Achlioptas process, the difference being that the criteria used to evaluate edges is the product of node degrees (the number of edges attached to a node) rather than cluster sizes.\n",
    "\n",
    "Next steps:\n",
    "1. Need to get AP working\n",
    "2. Need to be able to take steps forward in time while calculating cluster size"
   ]
  },
  {
   "cell_type": "code",
   "execution_count": null,
   "metadata": {},
   "outputs": [],
   "source": []
  }
 ],
 "metadata": {
  "kernelspec": {
   "display_name": "Python 3",
   "language": "python",
   "name": "python3"
  },
  "language_info": {
   "codemirror_mode": {
    "name": "ipython",
    "version": 3
   },
   "file_extension": ".py",
   "mimetype": "text/x-python",
   "name": "python",
   "nbconvert_exporter": "python",
   "pygments_lexer": "ipython3",
   "version": "3.6.7"
  }
 },
 "nbformat": 4,
 "nbformat_minor": 2
}
