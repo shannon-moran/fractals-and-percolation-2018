{
 "cells": [
  {
   "cell_type": "markdown",
   "metadata": {},
   "source": [
    "# ChE 696 Final Project: Modeling explosive percolation based on local rules\n",
    "Shannon Moran\n",
    "Fall 2018\n",
    "\n",
    "This is my final project for the ChE 696 Special Topics Class \"Fractals and Percolation\" with Prof. Bob Ziff.\n",
    "\n",
    "I'm replicating the following paper (found [here](https://journals.aps.org/pre/pdf/10.1103/PhysRevE.97.020301)):\n",
    "> Alexander J. Trevelyan, Georgios Tsekenis, and Eric I. Corwin. \"Degree product rule tempers explosive percolation in the absence of global information.\" Physical Review E 97, 020301(R) (2018).\n",
    "\n",
    "This paper implement three types of growth process for graphs:\n",
    "* ER: Erdos-Renyi, a random graph generation\n",
    "* AP: Achlioptas growth process, a competitive rule based on cluster sizes of the potential new cluster \n",
    "* DPR: Degree product rule, a local competitive rule based on the degrees of the component nodes of each proposed edge\n",
    "\n",
    "Here, I've implemented algorithms for generating each and clustering algorithms (Newman-Ziff) to analyze them. My ability to derive critical exponents was limited by the scale of the systems I was limited to by time and implementation. "
   ]
  },
  {
   "cell_type": "code",
   "execution_count": null,
   "metadata": {},
   "outputs": [],
   "source": [
    "# Auto-reloads external files any changes are automatically reflected\n",
    "%load_ext autoreload\n",
    "%autoreload 2\n",
    "\n",
    "import numpy as np\n",
    "import networkx as nx\n",
    "import random\n",
    "from tqdm import tqdm,tqdm_notebook\n",
    "import math\n",
    "\n",
    "import matplotlib.pyplot as plt\n",
    "%matplotlib inline\n",
    "\n",
    "SMALL_SIZE = 10\n",
    "MEDIUM_SIZE = 14\n",
    "BIGGER_SIZE = 16\n",
    "\n",
    "plt.rc('font', size=SMALL_SIZE)          # controls default text sizes\n",
    "plt.rc('axes', titlesize=SMALL_SIZE)     # fontsize of the axes title\n",
    "plt.rc('axes', labelsize=MEDIUM_SIZE)    # fontsize of the x and y labels\n",
    "plt.rc('xtick', labelsize=SMALL_SIZE)    # fontsize of the tick labels\n",
    "plt.rc('ytick', labelsize=SMALL_SIZE)    # fontsize of the tick labels\n",
    "plt.rc('legend', fontsize=SMALL_SIZE)    # legend fontsize\n",
    "plt.rc('figure', titlesize=BIGGER_SIZE)  # fontsize of the figure title"
   ]
  },
  {
   "cell_type": "markdown",
   "metadata": {},
   "source": [
    "## Set up network generation and clustering analysis algorithms"
   ]
  },
  {
   "cell_type": "code",
   "execution_count": 65,
   "metadata": {},
   "outputs": [],
   "source": [
    "class NetworkGeneration(object):\n",
    "    def __init__(self,N,p,process_name,m=0):\n",
    "        self.N = N # nodes, 3.6e5 in paper\n",
    "        self.p = p\n",
    "        self.m = m\n",
    "        self.t = N*p # edges to add\n",
    "        self.ptr = np.nan*np.ones(int(N)) # ptr empty array for NZ algorithm\n",
    "        self.N_list = list(np.arange(self.N).astype(int))\n",
    "        self.process = process_name\n",
    "    \n",
    "    def build(self):\n",
    "        if self.process=='ER': self.ER()\n",
    "        elif self.process=='AP': self.AP()\n",
    "        elif self.process=='DPR': self.DPR()\n",
    "        else: print('build with a valid process')\n",
    "            \n",
    "    def calculate_edge_product(self,G,edge_tuple):\n",
    "        return (G.degree[edge_tuple[0]]+1)*(G.degree[edge_tuple[1]]+1)\n",
    "            \n",
    "    def calculate_edge_cluster_sum(self,edge_tuple):\n",
    "        return sum([self.NZ_root_value(int(node)) for node in edge_tuple])\n",
    "    \n",
    "    def ER(self):\n",
    "        C = []\n",
    "        G = nx.Graph()\n",
    "        G.add_nodes_from(np.arange(self.N))\n",
    "        pbar = tqdm_notebook(total=(self.t),desc=\"Building an ER network\")\n",
    "        while len(G.edges)<self.t:\n",
    "            proposed_edge = (np.random.choice(self.N_list,2,replace=False))\n",
    "            G.add_edge(proposed_edge[0],proposed_edge[1])\n",
    "            self.NZ_update(proposed_edge)\n",
    "            C.append(-np.amin(self.ptr[np.where(np.logical_not(np.isnan(self.ptr)))])/self.N)\n",
    "            pbar.update(len(G.edges))\n",
    "        pbar.close()\n",
    "        self.C = C\n",
    "        self.G = G\n",
    "            \n",
    "    def DPR(self):\n",
    "        # DPR: goes to smallest product of the degrees of connection\n",
    "        C = []\n",
    "        G = nx.Graph()\n",
    "        G.add_nodes_from(np.arange(self.N))\n",
    "        pbar = tqdm_notebook(total=(self.t),desc=\"Building a DPR network\")\n",
    "        while len(G.edges)<self.t:\n",
    "            proposed_edges = ([np.random.choice(self.N_list,2,replace=False) for _ in range(self.m)])\n",
    "            proposed_edge_weights = [self.calculate_edge_product(G,edge_tuple) for edge_tuple in proposed_edges]\n",
    "            winning_edge = proposed_edges[proposed_edge_weights.index(min(proposed_edge_weights))]\n",
    "            G.add_edge(winning_edge[0],winning_edge[1])\n",
    "            self.NZ_update(winning_edge)\n",
    "            C.append(-np.amin(self.ptr[np.where(np.logical_not(np.isnan(self.ptr)))])/self.N)\n",
    "            pbar.update(len(G.edges))\n",
    "        pbar.close()\n",
    "        self.C = C\n",
    "        self.G = G\n",
    "\n",
    "    def find_root(self,node):\n",
    "        if self.ptr[int(node)]<0: return int(node) # root of a tree\n",
    "        elif math.isnan(self.ptr[int(node)]): return int(node) # solo node\n",
    "        else: return self.find_root(int(self.ptr[int(node)])) # node points to a root, find root location\n",
    "\n",
    "    def NZ_root_value(self,node):\n",
    "        root = self.find_root(int(node))\n",
    "        if math.isnan(self.ptr[int(root)]): return 1\n",
    "        else: return int(-self.ptr[root])\n",
    "        \n",
    "    def NZ_update(self,nodes_added):\n",
    "        roots = (self.find_root(nodes_added[0]),self.find_root(nodes_added[1]))\n",
    "        if roots[0]==roots[1]: return\n",
    "        \n",
    "        # get cluster size at each root (NZ_root_value automatically calculates as 1 for solo)\n",
    "        cluster_size = [self.NZ_root_value(root) for root in roots]\n",
    "        if cluster_size==sorted(cluster_size): smaller_node=nodes_added[0]; larger_node=nodes_added[1]\n",
    "        else: smaller_node=nodes_added[1]; larger_node=nodes_added[0]\n",
    "            \n",
    "        # have nodes within the smaller cluster to point to the larger cluster\n",
    "        smaller_root_loc = self.find_root(smaller_node)\n",
    "        larger_root_loc = self.find_root(larger_node)\n",
    "        np.place(self.ptr,(self.ptr==smaller_root_loc),larger_root_loc)\n",
    "        \n",
    "        # add the number of nodes in the smaller cluster to the larger cluster\n",
    "        self.ptr[larger_root_loc] = -(self.NZ_root_value(larger_root_loc) + self.NZ_root_value(smaller_root_loc))\n",
    "        \n",
    "        # point the smaller root to the larger root\n",
    "        self.ptr[smaller_root_loc] = larger_root_loc\n",
    "    \n",
    "    def AP(self):\n",
    "        # AP: goes to smallest sum of clusters connected to each node\n",
    "        C = []\n",
    "        G = nx.Graph()\n",
    "        G.add_nodes_from(np.arange(self.N))\n",
    "        pbar = tqdm_notebook(total=(self.t),desc=\"Building an AP network\")\n",
    "        while len(G.edges)<self.t:\n",
    "            proposed_edges = [np.random.choice(self.N_list,2,replace=False) for _ in range(self.m)]\n",
    "            proposed_edge_weights = [self.calculate_edge_cluster_sum(edge) for edge in proposed_edges]\n",
    "            winning_edge = proposed_edges[proposed_edge_weights.index(min(proposed_edge_weights))]\n",
    "            G.add_edge(winning_edge[0],winning_edge[1])\n",
    "            self.NZ_update(winning_edge)\n",
    "            C.append(-np.amin(self.ptr[np.where(np.logical_not(np.isnan(self.ptr)))])/self.N)\n",
    "            pbar.update(len(G.edges))\n",
    "        pbar.close()\n",
    "        self.C = C\n",
    "        self.G = G"
   ]
  },
  {
   "cell_type": "markdown",
   "metadata": {},
   "source": [
    "## Figure 1: Network structure"
   ]
  },
  {
   "cell_type": "code",
   "execution_count": 74,
   "metadata": {
    "scrolled": true
   },
   "outputs": [
    {
     "data": {
      "application/vnd.jupyter.widget-view+json": {
       "model_id": "6cfe8954d3464f2587b055ee5ca7159a",
       "version_major": 2,
       "version_minor": 0
      },
      "text/plain": [
       "HBox(children=(IntProgress(value=0, description='Building an ER network', max=10000, style=ProgressStyle(descr…"
      ]
     },
     "metadata": {},
     "output_type": "display_data"
    },
    {
     "data": {
      "application/vnd.jupyter.widget-view+json": {
       "model_id": "8e18a97f5f1646a687ce6c92d0b893b2",
       "version_major": 2,
       "version_minor": 0
      },
      "text/plain": [
       "HBox(children=(IntProgress(value=0, description='Building a DPR network', max=10000, style=ProgressStyle(descr…"
      ]
     },
     "metadata": {},
     "output_type": "display_data"
    },
    {
     "data": {
      "application/vnd.jupyter.widget-view+json": {
       "model_id": "ff11107f2130430d9fb7b4b6feb5daf2",
       "version_major": 2,
       "version_minor": 0
      },
      "text/plain": [
       "HBox(children=(IntProgress(value=0, description='Building an AP network', max=10000, style=ProgressStyle(descr…"
      ]
     },
     "metadata": {},
     "output_type": "display_data"
    }
   ],
   "source": [
    "N = 1e4 # nodes, 3.6e5 in paper\n",
    "p = 1\n",
    "\n",
    "test_ER = NetworkGeneration(N,p,'ER')\n",
    "test_ER.build()\n",
    "\n",
    "test_DPR = NetworkGeneration(N,p,'DPR',m=2)\n",
    "test_DPR.build()\n",
    "\n",
    "test_AP = NetworkGeneration(N,p,'AP',m=2)\n",
    "test_AP.build()"
   ]
  },
  {
   "cell_type": "code",
   "execution_count": 100,
   "metadata": {},
   "outputs": [
    {
     "data": {
      "image/png": "[encoded data removed]",
      "text/plain": [
       "<Figure size 432x288 with 1 Axes>"
      ]
     },
     "metadata": {},
     "output_type": "display_data"
    }
   ],
   "source": [
    "x = int(N-2)\n",
    "t_range = (np.arange(N*p+1)/N)[:x]\n",
    "\n",
    "plt.plot(t_range,test_ER.C[:x],'r--',label='ER')\n",
    "plt.plot(t_range,test_DPR.C[:x],'b-',label='DPR')\n",
    "plt.plot(t_range,test_AP.C[:x],'g-.',label='APR')\n",
    "# plt.plot(t_range,test_AP.C,'g-.')\n",
    "plt.ylabel('C/N')\n",
    "plt.xlabel('t/N')\n",
    "plt.ylim(0.0,1.0)\n",
    "plt.xlim(0.0,1.0)\n",
    "plt.legend()\n",
    "plt.show()"
   ]
  },
  {
   "cell_type": "markdown",
   "metadata": {},
   "source": [
    "## Figure 2: \"Largest jump\" order parameter\n",
    "Problem: The paper doesn't actually say what $p$ value this is for.\n",
    "\n",
    "I'm going to assume it's $p=1$. I'm also going to use a binary search to quickly find the largest cluster size jump in this simulations I ran above."
   ]
  },
  {
   "cell_type": "code",
   "execution_count": 76,
   "metadata": {},
   "outputs": [],
   "source": [
    "def binary_search(G,C,start,end,largest_jump):\n",
    "    # x-values\n",
    "    midpoint = int((end+start)/2)\n",
    "    \n",
    "    # y-values\n",
    "    head = C[int(start)]\n",
    "    mid = C[midpoint]\n",
    "    tail = C[int(end)]\n",
    "        \n",
    "    # If start and end are only one step removed from on another, then search is complete\n",
    "    if abs(end-start)==1:\n",
    "        if (tail-head)>largest_jump: largest_jump = (tail-head)\n",
    "        return largest_jump\n",
    "    # Check which side of the midpoint the largest jump is on\n",
    "    elif (mid-head)>(tail-mid):\n",
    "        if (mid-head)>(len(G.nodes)*0.01):\n",
    "            largest_jump = (mid-head)\n",
    "            return binary_search(G,C,int(start),int(midpoint),largest_jump)\n",
    "    elif (tail-mid)>(len(G.nodes)*0.01):\n",
    "        largest_jump = (tail-mid)\n",
    "        return binary_search(G,C,int(midpoint),int(end),largest_jump)\n",
    "    return largest_jump"
   ]
  },
  {
   "cell_type": "code",
   "execution_count": 114,
   "metadata": {},
   "outputs": [
    {
     "data": {
      "application/vnd.jupyter.widget-view+json": {
       "model_id": "9811a5155fef41acb46abe910005426f",
       "version_major": 2,
       "version_minor": 0
      },
      "text/plain": [
       "HBox(children=(IntProgress(value=0, description='Building an ER network', max=99, style=ProgressStyle(descript…"
      ]
     },
     "metadata": {},
     "output_type": "display_data"
    },
    {
     "data": {
      "application/vnd.jupyter.widget-view+json": {
       "model_id": "2caeec63f5854771a07f4ecd91b90f96",
       "version_major": 2,
       "version_minor": 0
      },
      "text/plain": [
       "HBox(children=(IntProgress(value=0, description='Building a DPR network', max=99, style=ProgressStyle(descript…"
      ]
     },
     "metadata": {},
     "output_type": "display_data"
    },
    {
     "data": {
      "application/vnd.jupyter.widget-view+json": {
       "model_id": "173ab5c0cae44aaf9829201ffe333de4",
       "version_major": 2,
       "version_minor": 0
      },
      "text/plain": [
       "HBox(children=(IntProgress(value=0, description='Building a DPR network', max=99, style=ProgressStyle(descript…"
      ]
     },
     "metadata": {},
     "output_type": "display_data"
    },
    {
     "data": {
      "application/vnd.jupyter.widget-view+json": {
       "model_id": "508a4f6a2883454db64a0c8d853a86d9",
       "version_major": 2,
       "version_minor": 0
      },
      "text/plain": [
       "HBox(children=(IntProgress(value=0, description='Building a DPR network', max=99, style=ProgressStyle(descript…"
      ]
     },
     "metadata": {},
     "output_type": "display_data"
    },
    {
     "data": {
      "application/vnd.jupyter.widget-view+json": {
       "model_id": "17c91541f9514909ab2ef5936dcaf991",
       "version_major": 2,
       "version_minor": 0
      },
      "text/plain": [
       "HBox(children=(IntProgress(value=0, description='Building an ER network', max=499, style=ProgressStyle(descrip…"
      ]
     },
     "metadata": {},
     "output_type": "display_data"
    },
    {
     "data": {
      "application/vnd.jupyter.widget-view+json": {
       "model_id": "180bb09c9da14fa199c12c1da0c91da9",
       "version_major": 2,
       "version_minor": 0
      },
      "text/plain": [
       "HBox(children=(IntProgress(value=0, description='Building a DPR network', max=499, style=ProgressStyle(descrip…"
      ]
     },
     "metadata": {},
     "output_type": "display_data"
    },
    {
     "data": {
      "application/vnd.jupyter.widget-view+json": {
       "model_id": "601ce611e8a345d589763df6e205bc32",
       "version_major": 2,
       "version_minor": 0
      },
      "text/plain": [
       "HBox(children=(IntProgress(value=0, description='Building a DPR network', max=499, style=ProgressStyle(descrip…"
      ]
     },
     "metadata": {},
     "output_type": "display_data"
    },
    {
     "data": {
      "application/vnd.jupyter.widget-view+json": {
       "model_id": "91182f04997744a7bcf665588007bf0f",
       "version_major": 2,
       "version_minor": 0
      },
      "text/plain": [
       "HBox(children=(IntProgress(value=0, description='Building a DPR network', max=499, style=ProgressStyle(descrip…"
      ]
     },
     "metadata": {},
     "output_type": "display_data"
    },
    {
     "data": {
      "application/vnd.jupyter.widget-view+json": {
       "model_id": "21d77f4f1df64a9483cd4c2fa9a7ea4a",
       "version_major": 2,
       "version_minor": 0
      },
      "text/plain": [
       "HBox(children=(IntProgress(value=0, description='Building an ER network', max=999, style=ProgressStyle(descrip…"
      ]
     },
     "metadata": {},
     "output_type": "display_data"
    },
    {
     "data": {
      "application/vnd.jupyter.widget-view+json": {
       "model_id": "1ff54bfca3334b968f53296f91afe6f0",
       "version_major": 2,
       "version_minor": 0
      },
      "text/plain": [
       "HBox(children=(IntProgress(value=0, description='Building a DPR network', max=999, style=ProgressStyle(descrip…"
      ]
     },
     "metadata": {},
     "output_type": "display_data"
    },
    {
     "data": {
      "application/vnd.jupyter.widget-view+json": {
       "model_id": "f907eab11c2941c1b3d360fa79fb6259",
       "version_major": 2,
       "version_minor": 0
      },
      "text/plain": [
       "HBox(children=(IntProgress(value=0, description='Building a DPR network', max=999, style=ProgressStyle(descrip…"
      ]
     },
     "metadata": {},
     "output_type": "display_data"
    },
    {
     "data": {
      "application/vnd.jupyter.widget-view+json": {
       "model_id": "63c217f97ec848fe9b836f55a2020e7c",
       "version_major": 2,
       "version_minor": 0
      },
      "text/plain": [
       "HBox(children=(IntProgress(value=0, description='Building a DPR network', max=999, style=ProgressStyle(descrip…"
      ]
     },
     "metadata": {},
     "output_type": "display_data"
    },
    {
     "data": {
      "application/vnd.jupyter.widget-view+json": {
       "model_id": "50bcd63450a8476dbfd7cdbe9e6b1a09",
       "version_major": 2,
       "version_minor": 0
      },
      "text/plain": [
       "HBox(children=(IntProgress(value=0, description='Building an ER network', max=2499, style=ProgressStyle(descri…"
      ]
     },
     "metadata": {},
     "output_type": "display_data"
    },
    {
     "data": {
      "application/vnd.jupyter.widget-view+json": {
       "model_id": "811843f2a5da49429803f4226abdeaf0",
       "version_major": 2,
       "version_minor": 0
      },
      "text/plain": [
       "HBox(children=(IntProgress(value=0, description='Building a DPR network', max=2499, style=ProgressStyle(descri…"
      ]
     },
     "metadata": {},
     "output_type": "display_data"
    },
    {
     "data": {
      "application/vnd.jupyter.widget-view+json": {
       "model_id": "ec1c5f2f70fb4e53a21a2754741be54e",
       "version_major": 2,
       "version_minor": 0
      },
      "text/plain": [
       "HBox(children=(IntProgress(value=0, description='Building a DPR network', max=2499, style=ProgressStyle(descri…"
      ]
     },
     "metadata": {},
     "output_type": "display_data"
    },
    {
     "data": {
      "application/vnd.jupyter.widget-view+json": {
       "model_id": "bcc0c301494744fa88fd37c62b98de4e",
       "version_major": 2,
       "version_minor": 0
      },
      "text/plain": [
       "HBox(children=(IntProgress(value=0, description='Building a DPR network', max=2499, style=ProgressStyle(descri…"
      ]
     },
     "metadata": {},
     "output_type": "display_data"
    },
    {
     "data": {
      "application/vnd.jupyter.widget-view+json": {
       "model_id": "cf50a1a364c842669d29ad51e619876d",
       "version_major": 2,
       "version_minor": 0
      },
      "text/plain": [
       "HBox(children=(IntProgress(value=0, description='Building an ER network', max=4999, style=ProgressStyle(descri…"
      ]
     },
     "metadata": {},
     "output_type": "display_data"
    },
    {
     "data": {
      "application/vnd.jupyter.widget-view+json": {
       "model_id": "51792bd6435647cdafa40b21a643cbde",
       "version_major": 2,
       "version_minor": 0
      },
      "text/plain": [
       "HBox(children=(IntProgress(value=0, description='Building a DPR network', max=4999, style=ProgressStyle(descri…"
      ]
     },
     "metadata": {},
     "output_type": "display_data"
    },
    {
     "data": {
      "application/vnd.jupyter.widget-view+json": {
       "model_id": "8fe252b2e9bf4111930714996391cd88",
       "version_major": 2,
       "version_minor": 0
      },
      "text/plain": [
       "HBox(children=(IntProgress(value=0, description='Building a DPR network', max=4999, style=ProgressStyle(descri…"
      ]
     },
     "metadata": {},
     "output_type": "display_data"
    },
    {
     "data": {
      "application/vnd.jupyter.widget-view+json": {
       "model_id": "5108b8694e8a4d4ab7946c1931ec8081",
       "version_major": 2,
       "version_minor": 0
      },
      "text/plain": [
       "HBox(children=(IntProgress(value=0, description='Building a DPR network', max=4999, style=ProgressStyle(descri…"
      ]
     },
     "metadata": {},
     "output_type": "display_data"
    },
    {
     "data": {
      "application/vnd.jupyter.widget-view+json": {
       "model_id": "9e7be6c92f9d4cb5a3ae317ff879b87c",
       "version_major": 2,
       "version_minor": 0
      },
      "text/plain": [
       "HBox(children=(IntProgress(value=0, description='Building an ER network', max=9999, style=ProgressStyle(descri…"
      ]
     },
     "metadata": {},
     "output_type": "display_data"
    },
    {
     "data": {
      "application/vnd.jupyter.widget-view+json": {
       "model_id": "b83eb207cd154a148b807b6fce626243",
       "version_major": 2,
       "version_minor": 0
      },
      "text/plain": [
       "HBox(children=(IntProgress(value=0, description='Building a DPR network', max=9999, style=ProgressStyle(descri…"
      ]
     },
     "metadata": {},
     "output_type": "display_data"
    },
    {
     "data": {
      "application/vnd.jupyter.widget-view+json": {
       "model_id": "d501125a087f430380da683348576096",
       "version_major": 2,
       "version_minor": 0
      },
      "text/plain": [
       "HBox(children=(IntProgress(value=0, description='Building a DPR network', max=9999, style=ProgressStyle(descri…"
      ]
     },
     "metadata": {},
     "output_type": "display_data"
    },
    {
     "data": {
      "application/vnd.jupyter.widget-view+json": {
       "model_id": "57b167ffc53c4748926e45af7168aa3e",
       "version_major": 2,
       "version_minor": 0
      },
      "text/plain": [
       "HBox(children=(IntProgress(value=0, description='Building a DPR network', max=9999, style=ProgressStyle(descri…"
      ]
     },
     "metadata": {},
     "output_type": "display_data"
    }
   ],
   "source": [
    "N_range = np.asarray([1e2,5e2,1e3,2.5e3,5e3,1e4])\n",
    "p = 1.0\n",
    "\n",
    "start = 0\n",
    "F2_DPR_2_Cmax = []\n",
    "F2_DPR_10_Cmax = []\n",
    "F2_DPR_50_Cmax = []\n",
    "F2_ER_Cmax = []\n",
    "\n",
    "for N_test in N_range:\n",
    "    N_test = round(N_test-1)\n",
    "    end = N_test*p-1\n",
    "    F2_ER = NetworkGeneration(N_test,p,'ER')\n",
    "    F2_ER.build()\n",
    "    F2_ER_Cmax.append(binary_search(F2_ER.G,[c*N_test for c in F2_ER.C],start,end,0)/N_test)\n",
    "    F2_DPR_2 = NetworkGeneration(N_test,p,'DPR',m=2)\n",
    "    F2_DPR_2.build()\n",
    "    F2_DPR_2_Cmax.append(binary_search(F2_DPR_2.G,[c*N_test for c in F2_DPR_2.C],start,end,0)/N_test)\n",
    "    F2_DPR_10 = NetworkGeneration(N_test,p,'DPR',m=10)\n",
    "    F2_DPR_10.build()\n",
    "    F2_DPR_10_Cmax.append(binary_search(F2_DPR_10.G,[c*N_test for c in F2_DPR_10.C],start,end,0)/N_test)\n",
    "    F2_DPR_50 = NetworkGeneration(N_test,p,'DPR',m=50)\n",
    "    F2_DPR_50.build()\n",
    "    F2_DPR_50_Cmax.append(binary_search(F2_DPR_50.G,[c*N_test for c in F2_DPR_50.C],start,end,0)/N_test)"
   ]
  },
  {
   "cell_type": "code",
   "execution_count": 115,
   "metadata": {},
   "outputs": [
    {
     "data": {
      "image/png": "[encoded data removed]",
      "text/plain": [
       "<Figure size 432x288 with 1 Axes>"
      ]
     },
     "metadata": {},
     "output_type": "display_data"
    }
   ],
   "source": [
    "plt.loglog(N_range,F2_DPR_2_Cmax,'bo-',label='DPR, m=2')\n",
    "plt.loglog(N_range,F2_DPR_10_Cmax,'ro-',label='DPR, m=10')\n",
    "plt.loglog(N_range,F2_DPR_50_Cmax,'go-',label='DPR, m=50')\n",
    "plt.loglog(N_range,F2_ER_Cmax,'k-.',label='ER')\n",
    "plt.ylabel(r'${\\Delta}C_{max}$/N')\n",
    "plt.xlabel('N')\n",
    "plt.ylim(5e-3,1e0)\n",
    "plt.xlim(1e2,1e5)\n",
    "plt.legend()\n",
    "plt.show()"
   ]
  },
  {
   "cell_type": "markdown",
   "metadata": {},
   "source": [
    "This plot is the right order of magnitude as that published in the paper, but is much noisier. This is because these systems need be sampled to get the critical behavior-- the randomness in the edge addition means each individual simulation is just one statistical event."
   ]
  },
  {
   "cell_type": "markdown",
   "metadata": {},
   "source": [
    "## Figure 3: Node degree distribution"
   ]
  },
  {
   "cell_type": "code",
   "execution_count": null,
   "metadata": {},
   "outputs": [],
   "source": [
    "N = 1e4 # nodes, 1.7e4 in paper\n",
    "p = 5 # provided by paper\n",
    "\n",
    "F3_ER = NetworkGeneration(N,p,'ER')\n",
    "F3_ER.build()\n",
    "\n",
    "F3_DPR = NetworkGeneration(N,p,'DPR',m=2)\n",
    "F3_DPR.build()\n",
    "\n",
    "F3_AP = NetworkGeneration(N,p,'AP',m=2)\n",
    "F3_AP.build()"
   ]
  },
  {
   "cell_type": "code",
   "execution_count": 85,
   "metadata": {},
   "outputs": [],
   "source": [
    "bins = np.arange(17)\n",
    "ER_hist,_ = np.histogram([d/2 for n, d in F3_ER.G.degree()],bins=bins)\n",
    "DPR_hist,_ = np.histogram([d/2 for n, d in F3_DPR.G.degree()],bins=bins)\n",
    "AP_hist,_ = np.histogram([d/2 for n, d in F3_AP.G.degree()],bins=bins)"
   ]
  },
  {
   "cell_type": "code",
   "execution_count": 105,
   "metadata": {},
   "outputs": [
    {
     "data": {
      "image/png": "[encoded data removed]",
      "text/plain": [
       "<Figure size 432x288 with 1 Axes>"
      ]
     },
     "metadata": {},
     "output_type": "display_data"
    }
   ],
   "source": [
    "x = bins[:-1]\n",
    "plt.plot(x,ER_hist/N,'r.--',label='ER')\n",
    "plt.plot(x,DPR_hist/N,'b.-',label='DPR')\n",
    "plt.plot(x,AP_hist/N,'g-.',label='AP')\n",
    "plt.ylabel('P(d)')\n",
    "plt.xlabel('d')\n",
    "plt.ylim(0.0,0.6)\n",
    "plt.xlim(0,17)\n",
    "plt.legend()\n",
    "plt.show()"
   ]
  },
  {
   "cell_type": "markdown",
   "metadata": {},
   "source": [
    "## Figure 4: Critical behavior\n",
    "In this case, they don't give me $m$! I've assumed it's $m=2$ for continuity with earlier graphs that were constant-$m$."
   ]
  },
  {
   "cell_type": "code",
   "execution_count": 177,
   "metadata": {},
   "outputs": [],
   "source": [
    "def mean_cluster_size_from_ptr(N,ptr):\n",
    "    # feed in ptr as an array\n",
    "    cluster_sizes = ptr[ptr<0]\n",
    "    mean_cluster_size = sum([(s**2) for s in cluster_sizes])/N\n",
    "    return mean_cluster_size"
   ]
  },
  {
   "cell_type": "code",
   "execution_count": 178,
   "metadata": {},
   "outputs": [
    {
     "data": {
      "application/vnd.jupyter.widget-view+json": {
       "model_id": "26c0cb58da304abfb3bb6e61f5332e81",
       "version_major": 2,
       "version_minor": 0
      },
      "text/plain": [
       "HBox(children=(IntProgress(value=0, description='Building a DPR network', max=75, style=ProgressStyle(descript…"
      ]
     },
     "metadata": {},
     "output_type": "display_data"
    },
    {
     "name": "stderr",
     "output_type": "stream",
     "text": [
      "/Users/shannon/miniconda3/lib/python3.6/site-packages/ipykernel_launcher.py:3: RuntimeWarning: invalid value encountered in less\n",
      "  This is separate from the ipykernel package so we can avoid doing imports until\n"
     ]
    },
    {
     "data": {
      "application/vnd.jupyter.widget-view+json": {
       "model_id": "82ef34e9909c4bdeaa87bf2aed08cb79",
       "version_major": 2,
       "version_minor": 0
      },
      "text/plain": [
       "HBox(children=(IntProgress(value=0, description='Building a DPR network', max=76, style=ProgressStyle(descript…"
      ]
     },
     "metadata": {},
     "output_type": "display_data"
    },
    {
     "data": {
      "application/vnd.jupyter.widget-view+json": {
       "model_id": "9043404219e84d6e865b9b2f9af75437",
       "version_major": 2,
       "version_minor": 0
      },
      "text/plain": [
       "HBox(children=(IntProgress(value=0, description='Building a DPR network', max=74, style=ProgressStyle(descript…"
      ]
     },
     "metadata": {},
     "output_type": "display_data"
    },
    {
     "data": {
      "application/vnd.jupyter.widget-view+json": {
       "model_id": "628703c6be7d4e37ad26a9d05193ddaf",
       "version_major": 2,
       "version_minor": 0
      },
      "text/plain": [
       "HBox(children=(IntProgress(value=0, description='Building a DPR network', max=380, style=ProgressStyle(descrip…"
      ]
     },
     "metadata": {},
     "output_type": "display_data"
    },
    {
     "data": {
      "application/vnd.jupyter.widget-view+json": {
       "model_id": "6b7658a554354e10af7e260874b820cc",
       "version_major": 2,
       "version_minor": 0
      },
      "text/plain": [
       "HBox(children=(IntProgress(value=0, description='Building a DPR network', max=384, style=ProgressStyle(descrip…"
      ]
     },
     "metadata": {},
     "output_type": "display_data"
    },
    {
     "data": {
      "application/vnd.jupyter.widget-view+json": {
       "model_id": "a47bd3ee4f6c491a9125c7f6beff1894",
       "version_major": 2,
       "version_minor": 0
      },
      "text/plain": [
       "HBox(children=(IntProgress(value=0, description='Building a DPR network', max=374, style=ProgressStyle(descrip…"
      ]
     },
     "metadata": {},
     "output_type": "display_data"
    },
    {
     "data": {
      "application/vnd.jupyter.widget-view+json": {
       "model_id": "13303febf6e240b59613920d6cb22e12",
       "version_major": 2,
       "version_minor": 0
      },
      "text/plain": [
       "HBox(children=(IntProgress(value=0, description='Building a DPR network', max=762, style=ProgressStyle(descrip…"
      ]
     },
     "metadata": {},
     "output_type": "display_data"
    },
    {
     "data": {
      "application/vnd.jupyter.widget-view+json": {
       "model_id": "23372e181abf4496b5a55c8ad298f77c",
       "version_major": 2,
       "version_minor": 0
      },
      "text/plain": [
       "HBox(children=(IntProgress(value=0, description='Building a DPR network', max=769, style=ProgressStyle(descrip…"
      ]
     },
     "metadata": {},
     "output_type": "display_data"
    },
    {
     "data": {
      "application/vnd.jupyter.widget-view+json": {
       "model_id": "ef176f7ced994f98aa64d03634733928",
       "version_major": 2,
       "version_minor": 0
      },
      "text/plain": [
       "HBox(children=(IntProgress(value=0, description='Building a DPR network', max=749, style=ProgressStyle(descrip…"
      ]
     },
     "metadata": {},
     "output_type": "display_data"
    },
    {
     "data": {
      "application/vnd.jupyter.widget-view+json": {
       "model_id": "496f897550a44b7da89d380e095f1593",
       "version_major": 2,
       "version_minor": 0
      },
      "text/plain": [
       "HBox(children=(IntProgress(value=0, description='Building a DPR network', max=1906, style=ProgressStyle(descri…"
      ]
     },
     "metadata": {},
     "output_type": "display_data"
    },
    {
     "data": {
      "application/vnd.jupyter.widget-view+json": {
       "model_id": "05eb2585110d4015a2e45a1ccdf24548",
       "version_major": 2,
       "version_minor": 0
      },
      "text/plain": [
       "HBox(children=(IntProgress(value=0, description='Building a DPR network', max=1924, style=ProgressStyle(descri…"
      ]
     },
     "metadata": {},
     "output_type": "display_data"
    },
    {
     "data": {
      "application/vnd.jupyter.widget-view+json": {
       "model_id": "baf2bc8161f5414b83fb57fd2413001c",
       "version_major": 2,
       "version_minor": 0
      },
      "text/plain": [
       "HBox(children=(IntProgress(value=0, description='Building a DPR network', max=1874, style=ProgressStyle(descri…"
      ]
     },
     "metadata": {},
     "output_type": "display_data"
    },
    {
     "data": {
      "application/vnd.jupyter.widget-view+json": {
       "model_id": "1d59fa6097ad4d5eb4999274eda349f5",
       "version_major": 2,
       "version_minor": 0
      },
      "text/plain": [
       "HBox(children=(IntProgress(value=0, description='Building a DPR network', max=3814, style=ProgressStyle(descri…"
      ]
     },
     "metadata": {},
     "output_type": "display_data"
    },
    {
     "data": {
      "application/vnd.jupyter.widget-view+json": {
       "model_id": "5445e20b61e5495686cf17a3bfe56575",
       "version_major": 2,
       "version_minor": 0
      },
      "text/plain": [
       "HBox(children=(IntProgress(value=0, description='Building a DPR network', max=3849, style=ProgressStyle(descri…"
      ]
     },
     "metadata": {},
     "output_type": "display_data"
    },
    {
     "data": {
      "application/vnd.jupyter.widget-view+json": {
       "model_id": "889f5e4884c54aa18db9fec8d5e2a302",
       "version_major": 2,
       "version_minor": 0
      },
      "text/plain": [
       "HBox(children=(IntProgress(value=0, description='Building a DPR network', max=3749, style=ProgressStyle(descri…"
      ]
     },
     "metadata": {},
     "output_type": "display_data"
    },
    {
     "data": {
      "application/vnd.jupyter.widget-view+json": {
       "model_id": "a40b415bf179464ca0359cf6c5011a26",
       "version_major": 2,
       "version_minor": 0
      },
      "text/plain": [
       "HBox(children=(IntProgress(value=0, description='Building a DPR network', max=5721, style=ProgressStyle(descri…"
      ]
     },
     "metadata": {},
     "output_type": "display_data"
    },
    {
     "data": {
      "application/vnd.jupyter.widget-view+json": {
       "model_id": "38408db2cb504cfa92bff569f73796ae",
       "version_major": 2,
       "version_minor": 0
      },
      "text/plain": [
       "HBox(children=(IntProgress(value=0, description='Building a DPR network', max=5774, style=ProgressStyle(descri…"
      ]
     },
     "metadata": {},
     "output_type": "display_data"
    },
    {
     "data": {
      "application/vnd.jupyter.widget-view+json": {
       "model_id": "835c691365ff420b83ce7b132bf961a0",
       "version_major": 2,
       "version_minor": 0
      },
      "text/plain": [
       "HBox(children=(IntProgress(value=0, description='Building a DPR network', max=5624, style=ProgressStyle(descri…"
      ]
     },
     "metadata": {},
     "output_type": "display_data"
    },
    {
     "data": {
      "application/vnd.jupyter.widget-view+json": {
       "model_id": "f46521fd6a9e4d319f9456b0992ee3d5",
       "version_major": 2,
       "version_minor": 0
      },
      "text/plain": [
       "HBox(children=(IntProgress(value=0, description='Building a DPR network', max=7629, style=ProgressStyle(descri…"
      ]
     },
     "metadata": {},
     "output_type": "display_data"
    },
    {
     "data": {
      "application/vnd.jupyter.widget-view+json": {
       "model_id": "0354696d43724869aafa55ce866d0929",
       "version_major": 2,
       "version_minor": 0
      },
      "text/plain": [
       "HBox(children=(IntProgress(value=0, description='Building a DPR network', max=7699, style=ProgressStyle(descri…"
      ]
     },
     "metadata": {},
     "output_type": "display_data"
    },
    {
     "data": {
      "application/vnd.jupyter.widget-view+json": {
       "model_id": "c6d54f70946f4d378aff26200afc53fe",
       "version_major": 2,
       "version_minor": 0
      },
      "text/plain": [
       "HBox(children=(IntProgress(value=0, description='Building a DPR network', max=7499, style=ProgressStyle(descri…"
      ]
     },
     "metadata": {},
     "output_type": "display_data"
    }
   ],
   "source": [
    "# N_range = np.asarray([1e2,2.5e2,5e2,7.5e2,1e3])\n",
    "N_range = np.asarray([1e2,5e2,1e3,2.5e3,5e3,7.5e3,1e4])\n",
    "\n",
    "# pc = 0.763\n",
    "largest_cluster_a = []\n",
    "average_cluster_size_a = []\n",
    "largest_cluster_b = []\n",
    "average_cluster_size_b = []\n",
    "largest_cluster_c = []\n",
    "average_cluster_size_c = []\n",
    "for N_test in N_range:\n",
    "    N_test = round(N_test-1)\n",
    "    F4_DPR_c = NetworkGeneration(N_test,0.763,'DPR',m=2)\n",
    "    F4_DPR_c.build()\n",
    "    largest_cluster_c.append(max(F4_DPR_c.C))\n",
    "    average_cluster_size_c.append(mean_cluster_size_from_ptr(N_test,F4_DPR_c.ptr))\n",
    "    F4_DPR_a = NetworkGeneration(N_test,0.77,'DPR',m=2)\n",
    "    F4_DPR_a.build()\n",
    "    largest_cluster_a.append(max(F4_DPR_a.C))\n",
    "    average_cluster_size_a.append(mean_cluster_size_from_ptr(N_test,F4_DPR_a.ptr))\n",
    "    F4_DPR_b = NetworkGeneration(N_test,0.75,'DPR',m=2)\n",
    "    F4_DPR_b.build()\n",
    "    largest_cluster_b.append(max(F4_DPR_b.C))\n",
    "    average_cluster_size_b.append(mean_cluster_size_from_ptr(N_test,F4_DPR_b.ptr))"
   ]
  },
  {
   "cell_type": "code",
   "execution_count": 179,
   "metadata": {},
   "outputs": [
    {
     "data": {
      "image/png": "[encoded data removed]",
      "text/plain": [
       "<Figure size 432x288 with 1 Axes>"
      ]
     },
     "metadata": {},
     "output_type": "display_data"
    }
   ],
   "source": [
    "plt.loglog(N_range,largest_cluster_c,'ro-',label='Critical: p=0.763')\n",
    "plt.loglog(N_range,largest_cluster_a,'go-',label='Above: p=0.77')\n",
    "plt.loglog(N_range,largest_cluster_b,'bo-',label='Below: p=0.75')\n",
    "plt.ylabel('C/N')\n",
    "plt.xlabel('N')\n",
    "plt.ylim(1e-3,1e0)\n",
    "plt.xlim(1e2,1e7)\n",
    "plt.legend()\n",
    "plt.show()"
   ]
  },
  {
   "cell_type": "code",
   "execution_count": 180,
   "metadata": {},
   "outputs": [
    {
     "data": {
      "image/png": "[encoded data removed]",
      "text/plain": [
       "<Figure size 432x288 with 1 Axes>"
      ]
     },
     "metadata": {},
     "output_type": "display_data"
    }
   ],
   "source": [
    "plt.loglog(N_range,average_cluster_size_c,'ro-',label='Critical: p=0.763')\n",
    "plt.loglog(N_range,average_cluster_size_a,'go-',label='Above: p=0.77')\n",
    "plt.loglog(N_range,average_cluster_size_b,'bo-',label='Below: p=0.75')\n",
    "plt.ylabel('S')\n",
    "plt.xlabel('N')\n",
    "plt.ylim(1e0,1e3)\n",
    "plt.xlim(1e2,1e7)\n",
    "plt.legend()\n",
    "plt.show()"
   ]
  }
 ],
 "metadata": {
  "kernelspec": {
   "display_name": "Python 3",
   "language": "python",
   "name": "python3"
  },
  "language_info": {
   "codemirror_mode": {
    "name": "ipython",
    "version": 3
   },
   "file_extension": ".py",
   "mimetype": "text/x-python",
   "name": "python",
   "nbconvert_exporter": "python",
   "pygments_lexer": "ipython3",
   "version": "3.6.7"
  }
 },
 "nbformat": 4,
 "nbformat_minor": 2
}
