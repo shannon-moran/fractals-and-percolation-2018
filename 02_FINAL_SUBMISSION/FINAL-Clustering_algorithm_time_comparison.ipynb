{
 "cells": [
  {
   "cell_type": "markdown",
   "metadata": {},
   "source": [
    "# Supplemental analysis: Comparing time to run NZ versus networkx clustering algorithms\n"
   ]
  },
  {
   "cell_type": "code",
   "execution_count": 13,
   "metadata": {},
   "outputs": [
    {
     "name": "stdout",
     "output_type": "stream",
     "text": [
      "The autoreload extension is already loaded. To reload it, use:\n",
      "  %reload_ext autoreload\n"
     ]
    }
   ],
   "source": [
    "# Auto-reloads external files any changes are automatically reflected\n",
    "%load_ext autoreload\n",
    "%autoreload 2\n",
    "\n",
    "import numpy as np\n",
    "import networkx as nx\n",
    "import random\n",
    "import time\n",
    "import math\n",
    "from tqdm import tqdm,tqdm_notebook\n",
    "\n",
    "import matplotlib.pyplot as plt\n",
    "%matplotlib inline\n",
    "\n",
    "SMALL_SIZE = 10\n",
    "MEDIUM_SIZE = 14\n",
    "BIGGER_SIZE = 16\n",
    "\n",
    "plt.rc('font', size=SMALL_SIZE)          # controls default text sizes\n",
    "plt.rc('axes', titlesize=SMALL_SIZE)     # fontsize of the axes title\n",
    "plt.rc('axes', labelsize=MEDIUM_SIZE)    # fontsize of the x and y labels\n",
    "plt.rc('xtick', labelsize=SMALL_SIZE)    # fontsize of the tick labels\n",
    "plt.rc('ytick', labelsize=SMALL_SIZE)    # fontsize of the tick labels\n",
    "plt.rc('legend', fontsize=SMALL_SIZE)    # legend fontsize\n",
    "plt.rc('figure', titlesize=BIGGER_SIZE)  # fontsize of the figure title"
   ]
  },
  {
   "cell_type": "markdown",
   "metadata": {},
   "source": [
    "## Networkx implementation only"
   ]
  },
  {
   "cell_type": "code",
   "execution_count": 5,
   "metadata": {},
   "outputs": [],
   "source": [
    "class NetworkGeneration_nx(object):\n",
    "    def __init__(self,N,p,process_name,m=0):\n",
    "        self.N = N # nodes, 3.6e5 in paper\n",
    "        self.p = p\n",
    "        self.m = m\n",
    "        self.t = N*p # edges to add\n",
    "        self.N_list = list(np.arange(self.N).astype(int))\n",
    "        self.process = process_name    \n",
    "    \n",
    "    def build(self):\n",
    "        if self.process=='ER': self.ER()\n",
    "        elif self.process=='AP': self.AP()\n",
    "        elif self.process=='DPR': self.DPR()\n",
    "        else: print('build with a valid process')\n",
    "            \n",
    "    def calculate_edge_product(self,G,edge_tuple):\n",
    "        return (G.degree[edge_tuple[0]]+1)*(G.degree[edge_tuple[1]]+1)\n",
    "\n",
    "    def calculate_edge_cluster_sizes(self,G,edge_tuple):\n",
    "        return len(nx.node_connected_component(G,edge_tuple[0])) + len(nx.node_connected_component(G,edge_tuple[1]))\n",
    "    \n",
    "    def ER(self):\n",
    "        C = []\n",
    "        G = nx.Graph()\n",
    "        G.add_nodes_from(np.arange(self.N))\n",
    "        pbar = tqdm_notebook(total=(self.t),desc=\"Building an ER network\")\n",
    "        while len(G.edges)<self.t:\n",
    "            proposed_edge = (random.choice(self.N_list),random.choice(self.N_list))\n",
    "            G.add_edge(proposed_edge[0],proposed_edge[1])\n",
    "            C.append(len(max(nx.connected_component_subgraphs(G), key=len))/self.N)\n",
    "            pbar.update(len(G.edges))\n",
    "        pbar.close()\n",
    "        self.C = C\n",
    "        self.G = G\n",
    "            \n",
    "    def DPR(self):\n",
    "        # DPR: goes to smallest product of the degrees of connection\n",
    "        C = []\n",
    "        G = nx.Graph()\n",
    "        G.add_nodes_from(np.arange(self.N))\n",
    "        pbar = tqdm_notebook(total=(self.t),desc=\"Building a DPR network\")\n",
    "        while len(G.edges)<self.t:\n",
    "            proposed_edges = [(random.choice(self.N_list),random.choice(self.N_list)) for _ in range(self.m)]\n",
    "            proposed_edge_weights = [self.calculate_edge_product(G,edge_tuple) for edge_tuple in proposed_edges]\n",
    "            winning_edge = proposed_edges[proposed_edge_weights.index(min(proposed_edge_weights))]\n",
    "            G.add_edge(winning_edge[0],winning_edge[1])\n",
    "            C.append(len(max(nx.connected_component_subgraphs(G), key=len))/self.N)\n",
    "            pbar.update(len(G.edges))\n",
    "        pbar.close()\n",
    "        self.C = C\n",
    "        self.G = G\n",
    "            \n",
    "    def AP(self):\n",
    "        # AP: goes to smallest sum of clusters connected to each node\n",
    "        C = []\n",
    "        G = nx.Graph()\n",
    "        G.add_nodes_from(np.arange(self.N))\n",
    "        pbar = tqdm_notebook(total=(self.t),desc=\"Building an AP network\")\n",
    "        while len(G.edges)<self.t:\n",
    "            proposed_edges = [(random.choice(self.N_list),random.choice(self.N_list)) for _ in range(self.m)]\n",
    "            proposed_edge_weights = [self.calculate_edge_cluster_sizes(G,edge_tuple) for edge_tuple in proposed_edges]\n",
    "            winning_edge = proposed_edges[proposed_edge_weights.index(min(proposed_edge_weights))]\n",
    "            G.add_edge(winning_edge[0],winning_edge[1])\n",
    "            C.append(len(max(nx.connected_component_subgraphs(G), key=len))/self.N)\n",
    "            pbar.update(len(G.edges))\n",
    "        pbar.close()\n",
    "        self.C = C\n",
    "        self.G = G"
   ]
  },
  {
   "cell_type": "markdown",
   "metadata": {},
   "source": [
    "## NZ algorithms"
   ]
  },
  {
   "cell_type": "code",
   "execution_count": 6,
   "metadata": {},
   "outputs": [],
   "source": [
    "class NetworkGeneration(object):\n",
    "    def __init__(self,N,p,process_name,m=0):\n",
    "        self.N = N # nodes, 3.6e5 in paper\n",
    "        self.p = p\n",
    "        self.m = m\n",
    "        self.t = N*p # edges to add\n",
    "        self.ptr = np.nan*np.ones(int(N)) # ptr empty array for NZ algorithm\n",
    "        self.N_list = list(np.arange(self.N).astype(int))\n",
    "        self.process = process_name\n",
    "    \n",
    "    def build(self):\n",
    "        if self.process=='ER': self.ER()\n",
    "        elif self.process=='AP': self.AP()\n",
    "        elif self.process=='DPR': self.DPR()\n",
    "        else: print('build with a valid process')\n",
    "            \n",
    "    def calculate_edge_product(self,G,edge_tuple):\n",
    "        return (G.degree[edge_tuple[0]]+1)*(G.degree[edge_tuple[1]]+1)\n",
    "            \n",
    "    def calculate_edge_cluster_sum(self,edge_tuple):\n",
    "        return sum([self.NZ_root_value(int(node)) for node in edge_tuple])\n",
    "    \n",
    "    def ER(self):\n",
    "        C = []\n",
    "        G = nx.Graph()\n",
    "        G.add_nodes_from(np.arange(self.N))\n",
    "        pbar = tqdm_notebook(total=(self.t),desc=\"Building an ER network\")\n",
    "        while len(G.edges)<self.t:\n",
    "            proposed_edge = (np.random.choice(self.N_list,2,replace=False))\n",
    "            G.add_edge(proposed_edge[0],proposed_edge[1])\n",
    "            self.NZ_update(proposed_edge)\n",
    "            C.append(-np.amin(self.ptr[np.where(np.logical_not(np.isnan(self.ptr)))])/self.N)\n",
    "            pbar.update(len(G.edges))\n",
    "        pbar.close()\n",
    "        self.C = C\n",
    "        self.G = G\n",
    "            \n",
    "    def DPR(self):\n",
    "        # DPR: goes to smallest product of the degrees of connection\n",
    "        C = []\n",
    "        G = nx.Graph()\n",
    "        G.add_nodes_from(np.arange(self.N))\n",
    "        pbar = tqdm_notebook(total=(self.t),desc=\"Building a DPR network\")\n",
    "        while len(G.edges)<self.t:\n",
    "            proposed_edges = ([np.random.choice(self.N_list,2,replace=False) for _ in range(self.m)])\n",
    "            proposed_edge_weights = [self.calculate_edge_product(G,edge_tuple) for edge_tuple in proposed_edges]\n",
    "            winning_edge = proposed_edges[proposed_edge_weights.index(min(proposed_edge_weights))]\n",
    "            G.add_edge(winning_edge[0],winning_edge[1])\n",
    "            self.NZ_update(winning_edge)\n",
    "            C.append(-np.amin(self.ptr[np.where(np.logical_not(np.isnan(self.ptr)))])/self.N)\n",
    "            pbar.update(len(G.edges))\n",
    "        pbar.close()\n",
    "        self.C = C\n",
    "        self.G = G\n",
    "\n",
    "    def find_root(self,node):\n",
    "        if self.ptr[int(node)]<0: return int(node) # root of a tree\n",
    "        elif math.isnan(self.ptr[int(node)]): return int(node) # solo node\n",
    "        else: return self.find_root(int(self.ptr[int(node)])) # node points to a root, find root location\n",
    "\n",
    "    def NZ_root_value(self,node):\n",
    "        root = self.find_root(int(node))\n",
    "        if math.isnan(self.ptr[int(root)]): return 1\n",
    "        else: return int(-self.ptr[root])\n",
    "        \n",
    "    def NZ_update(self,nodes_added):\n",
    "        roots = (self.find_root(nodes_added[0]),self.find_root(nodes_added[1]))\n",
    "        if roots[0]==roots[1]: return\n",
    "        \n",
    "        # get cluster size at each root (NZ_root_value automatically calculates as 1 for solo)\n",
    "        cluster_size = [self.NZ_root_value(root) for root in roots]\n",
    "        if cluster_size==sorted(cluster_size): smaller_node=nodes_added[0]; larger_node=nodes_added[1]\n",
    "        else: smaller_node=nodes_added[1]; larger_node=nodes_added[0]\n",
    "            \n",
    "        # have nodes within the smaller cluster to point to the larger cluster\n",
    "        smaller_root_loc = self.find_root(smaller_node)\n",
    "        larger_root_loc = self.find_root(larger_node)\n",
    "        np.place(self.ptr,(self.ptr==smaller_root_loc),larger_root_loc)\n",
    "        \n",
    "        # add the number of nodes in the smaller cluster to the larger cluster\n",
    "        self.ptr[larger_root_loc] = -(self.NZ_root_value(larger_root_loc) + self.NZ_root_value(smaller_root_loc))\n",
    "        \n",
    "        # point the smaller root to the larger root\n",
    "        self.ptr[smaller_root_loc] = larger_root_loc\n",
    "    \n",
    "    def AP(self):\n",
    "        # AP: goes to smallest sum of clusters connected to each node\n",
    "        C = []\n",
    "        G = nx.Graph()\n",
    "        G.add_nodes_from(np.arange(self.N))\n",
    "        pbar = tqdm_notebook(total=(self.t),desc=\"Building an AP network\")\n",
    "        while len(G.edges)<self.t:\n",
    "            proposed_edges = [np.random.choice(self.N_list,2,replace=False) for _ in range(self.m)]\n",
    "            proposed_edge_weights = [self.calculate_edge_cluster_sum(edge) for edge in proposed_edges]\n",
    "            winning_edge = proposed_edges[proposed_edge_weights.index(min(proposed_edge_weights))]\n",
    "            G.add_edge(winning_edge[0],winning_edge[1])\n",
    "            self.NZ_update(winning_edge)\n",
    "            C.append(-np.amin(self.ptr[np.where(np.logical_not(np.isnan(self.ptr)))])/self.N)\n",
    "            pbar.update(len(G.edges))\n",
    "        pbar.close()\n",
    "        self.C = C\n",
    "        self.G = G"
   ]
  },
  {
   "cell_type": "markdown",
   "metadata": {},
   "source": [
    "## Speed test"
   ]
  },
  {
   "cell_type": "code",
   "execution_count": null,
   "metadata": {},
   "outputs": [],
   "source": [
    "# Set test parameters\n",
    "p = 1\n",
    "N_space = np.asarray([1e2,2.5e2,5e2,7.5e2,1e3])"
   ]
  },
  {
   "cell_type": "code",
   "execution_count": 14,
   "metadata": {
    "collapsed": true
   },
   "outputs": [
    {
     "data": {
      "application/vnd.jupyter.widget-view+json": {
       "model_id": "782acdfbdb8245c9b930fb0b98898f83",
       "version_major": 2,
       "version_minor": 0
      },
      "text/plain": [
       "HBox(children=(IntProgress(value=0, description='Building an ER network', style=ProgressStyle(description_widt…"
      ]
     },
     "metadata": {},
     "output_type": "display_data"
    },
    {
     "data": {
      "application/vnd.jupyter.widget-view+json": {
       "model_id": "b52f3a4dfd094989b335c14dedb30ef0",
       "version_major": 2,
       "version_minor": 0
      },
      "text/plain": [
       "HBox(children=(IntProgress(value=0, description='Building a DPR network', style=ProgressStyle(description_widt…"
      ]
     },
     "metadata": {},
     "output_type": "display_data"
    },
    {
     "data": {
      "application/vnd.jupyter.widget-view+json": {
       "model_id": "4ec2440185f64a37bdaab31195016df5",
       "version_major": 2,
       "version_minor": 0
      },
      "text/plain": [
       "HBox(children=(IntProgress(value=0, description='Building an AP network', style=ProgressStyle(description_widt…"
      ]
     },
     "metadata": {},
     "output_type": "display_data"
    },
    {
     "data": {
      "application/vnd.jupyter.widget-view+json": {
       "model_id": "9c9f6e8be0984e8eab391e7c0d100e97",
       "version_major": 2,
       "version_minor": 0
      },
      "text/plain": [
       "HBox(children=(IntProgress(value=0, description='Building an ER network', max=250, style=ProgressStyle(descrip…"
      ]
     },
     "metadata": {},
     "output_type": "display_data"
    },
    {
     "data": {
      "application/vnd.jupyter.widget-view+json": {
       "model_id": "c146503b36aa4ba5a8fd3fa981332e19",
       "version_major": 2,
       "version_minor": 0
      },
      "text/plain": [
       "HBox(children=(IntProgress(value=0, description='Building a DPR network', max=250, style=ProgressStyle(descrip…"
      ]
     },
     "metadata": {},
     "output_type": "display_data"
    },
    {
     "data": {
      "application/vnd.jupyter.widget-view+json": {
       "model_id": "e1382d5fea9343e6ab6247f81738ec39",
       "version_major": 2,
       "version_minor": 0
      },
      "text/plain": [
       "HBox(children=(IntProgress(value=0, description='Building an AP network', max=250, style=ProgressStyle(descrip…"
      ]
     },
     "metadata": {},
     "output_type": "display_data"
    },
    {
     "data": {
      "application/vnd.jupyter.widget-view+json": {
       "model_id": "c17fcadb935742e89762ad305c8cff6e",
       "version_major": 2,
       "version_minor": 0
      },
      "text/plain": [
       "HBox(children=(IntProgress(value=0, description='Building an ER network', max=500, style=ProgressStyle(descrip…"
      ]
     },
     "metadata": {},
     "output_type": "display_data"
    },
    {
     "data": {
      "application/vnd.jupyter.widget-view+json": {
       "model_id": "7319ed2389db44eebbb57d9cb3330fd1",
       "version_major": 2,
       "version_minor": 0
      },
      "text/plain": [
       "HBox(children=(IntProgress(value=0, description='Building a DPR network', max=500, style=ProgressStyle(descrip…"
      ]
     },
     "metadata": {},
     "output_type": "display_data"
    },
    {
     "data": {
      "application/vnd.jupyter.widget-view+json": {
       "model_id": "47448dda72a447f2a40eaf802c729d45",
       "version_major": 2,
       "version_minor": 0
      },
      "text/plain": [
       "HBox(children=(IntProgress(value=0, description='Building an AP network', max=500, style=ProgressStyle(descrip…"
      ]
     },
     "metadata": {},
     "output_type": "display_data"
    },
    {
     "data": {
      "application/vnd.jupyter.widget-view+json": {
       "model_id": "35fbddcd1d7b4daca12365bd341450a4",
       "version_major": 2,
       "version_minor": 0
      },
      "text/plain": [
       "HBox(children=(IntProgress(value=0, description='Building an ER network', max=750, style=ProgressStyle(descrip…"
      ]
     },
     "metadata": {},
     "output_type": "display_data"
    },
    {
     "data": {
      "application/vnd.jupyter.widget-view+json": {
       "model_id": "0e376bb2f2eb4a01a7b6bf15cff8fb5d",
       "version_major": 2,
       "version_minor": 0
      },
      "text/plain": [
       "HBox(children=(IntProgress(value=0, description='Building a DPR network', max=750, style=ProgressStyle(descrip…"
      ]
     },
     "metadata": {},
     "output_type": "display_data"
    },
    {
     "data": {
      "application/vnd.jupyter.widget-view+json": {
       "model_id": "7496e61b4bc145a8a77bab1233d777fe",
       "version_major": 2,
       "version_minor": 0
      },
      "text/plain": [
       "HBox(children=(IntProgress(value=0, description='Building an AP network', max=750, style=ProgressStyle(descrip…"
      ]
     },
     "metadata": {},
     "output_type": "display_data"
    },
    {
     "data": {
      "application/vnd.jupyter.widget-view+json": {
       "model_id": "453e06e803e9402eb04dd7cd8ecf5ed4",
       "version_major": 2,
       "version_minor": 0
      },
      "text/plain": [
       "HBox(children=(IntProgress(value=0, description='Building an ER network', max=1000, style=ProgressStyle(descri…"
      ]
     },
     "metadata": {},
     "output_type": "display_data"
    },
    {
     "data": {
      "application/vnd.jupyter.widget-view+json": {
       "model_id": "20285a9feffc4504b5c9efe027a4d88b",
       "version_major": 2,
       "version_minor": 0
      },
      "text/plain": [
       "HBox(children=(IntProgress(value=0, description='Building a DPR network', max=1000, style=ProgressStyle(descri…"
      ]
     },
     "metadata": {},
     "output_type": "display_data"
    },
    {
     "data": {
      "application/vnd.jupyter.widget-view+json": {
       "model_id": "8b78312264674f0fa2654de777097338",
       "version_major": 2,
       "version_minor": 0
      },
      "text/plain": [
       "HBox(children=(IntProgress(value=0, description='Building an AP network', max=1000, style=ProgressStyle(descri…"
      ]
     },
     "metadata": {},
     "output_type": "display_data"
    }
   ],
   "source": [
    "# Newman-Ziff implementation\n",
    "\n",
    "t_ER = []\n",
    "t_DPR = []\n",
    "t_AP = []\n",
    "\n",
    "for N_test in N_space:\n",
    "    test_ER = NetworkGeneration(N_test,p,'ER')\n",
    "    test_DPR = NetworkGeneration(N_test,p,'DPR',m=2)\n",
    "    test_AP = NetworkGeneration(N_test,p,'AP',m=2)\n",
    "    start=time.time()\n",
    "    test_ER.build()\n",
    "    t_ER.append(time.time()-start)\n",
    "    start=time.time()\n",
    "    test_DPR.build()\n",
    "    t_DPR.append(time.time()-start)\n",
    "    start=time.time()\n",
    "    test_AP.build()\n",
    "    t_AP.append(time.time()-start)"
   ]
  },
  {
   "cell_type": "code",
   "execution_count": 16,
   "metadata": {
    "collapsed": true
   },
   "outputs": [
    {
     "data": {
      "application/vnd.jupyter.widget-view+json": {
       "model_id": "3c87b4ac905d48b4968e5151b4265132",
       "version_major": 2,
       "version_minor": 0
      },
      "text/plain": [
       "HBox(children=(IntProgress(value=0, description='Building an ER network', style=ProgressStyle(description_widt…"
      ]
     },
     "metadata": {},
     "output_type": "display_data"
    },
    {
     "data": {
      "application/vnd.jupyter.widget-view+json": {
       "model_id": "956c69f532a9490ea1abcecfab452722",
       "version_major": 2,
       "version_minor": 0
      },
      "text/plain": [
       "HBox(children=(IntProgress(value=0, description='Building a DPR network', style=ProgressStyle(description_widt…"
      ]
     },
     "metadata": {},
     "output_type": "display_data"
    },
    {
     "data": {
      "application/vnd.jupyter.widget-view+json": {
       "model_id": "bbbabaced699448eb4c37679b616b725",
       "version_major": 2,
       "version_minor": 0
      },
      "text/plain": [
       "HBox(children=(IntProgress(value=0, description='Building an AP network', style=ProgressStyle(description_widt…"
      ]
     },
     "metadata": {},
     "output_type": "display_data"
    },
    {
     "data": {
      "application/vnd.jupyter.widget-view+json": {
       "model_id": "cb23ca73f16a47adbf478cd168db5c81",
       "version_major": 2,
       "version_minor": 0
      },
      "text/plain": [
       "HBox(children=(IntProgress(value=0, description='Building an ER network', max=250, style=ProgressStyle(descrip…"
      ]
     },
     "metadata": {},
     "output_type": "display_data"
    },
    {
     "data": {
      "application/vnd.jupyter.widget-view+json": {
       "model_id": "b9f90dd0cbee48b288bd3865cc964901",
       "version_major": 2,
       "version_minor": 0
      },
      "text/plain": [
       "HBox(children=(IntProgress(value=0, description='Building a DPR network', max=250, style=ProgressStyle(descrip…"
      ]
     },
     "metadata": {},
     "output_type": "display_data"
    },
    {
     "data": {
      "application/vnd.jupyter.widget-view+json": {
       "model_id": "0cf853170bb84cb588605536222992ad",
       "version_major": 2,
       "version_minor": 0
      },
      "text/plain": [
       "HBox(children=(IntProgress(value=0, description='Building an AP network', max=250, style=ProgressStyle(descrip…"
      ]
     },
     "metadata": {},
     "output_type": "display_data"
    },
    {
     "data": {
      "application/vnd.jupyter.widget-view+json": {
       "model_id": "927fa7ecbfbd401a9b6e103ff25955bb",
       "version_major": 2,
       "version_minor": 0
      },
      "text/plain": [
       "HBox(children=(IntProgress(value=0, description='Building an ER network', max=500, style=ProgressStyle(descrip…"
      ]
     },
     "metadata": {},
     "output_type": "display_data"
    },
    {
     "data": {
      "application/vnd.jupyter.widget-view+json": {
       "model_id": "a194f26567cf42479275052795532441",
       "version_major": 2,
       "version_minor": 0
      },
      "text/plain": [
       "HBox(children=(IntProgress(value=0, description='Building a DPR network', max=500, style=ProgressStyle(descrip…"
      ]
     },
     "metadata": {},
     "output_type": "display_data"
    },
    {
     "data": {
      "application/vnd.jupyter.widget-view+json": {
       "model_id": "2e98e868a8954c6eab25425d48fe81ca",
       "version_major": 2,
       "version_minor": 0
      },
      "text/plain": [
       "HBox(children=(IntProgress(value=0, description='Building an AP network', max=500, style=ProgressStyle(descrip…"
      ]
     },
     "metadata": {},
     "output_type": "display_data"
    },
    {
     "data": {
      "application/vnd.jupyter.widget-view+json": {
       "model_id": "28e9d2d604384c39b080049ef84f27d7",
       "version_major": 2,
       "version_minor": 0
      },
      "text/plain": [
       "HBox(children=(IntProgress(value=0, description='Building an ER network', max=750, style=ProgressStyle(descrip…"
      ]
     },
     "metadata": {},
     "output_type": "display_data"
    },
    {
     "data": {
      "application/vnd.jupyter.widget-view+json": {
       "model_id": "9381384d936f4ea286ba7fcc5f7fc5f6",
       "version_major": 2,
       "version_minor": 0
      },
      "text/plain": [
       "HBox(children=(IntProgress(value=0, description='Building a DPR network', max=750, style=ProgressStyle(descrip…"
      ]
     },
     "metadata": {},
     "output_type": "display_data"
    },
    {
     "data": {
      "application/vnd.jupyter.widget-view+json": {
       "model_id": "09e6a375af234526b0aa3d732e42b7ec",
       "version_major": 2,
       "version_minor": 0
      },
      "text/plain": [
       "HBox(children=(IntProgress(value=0, description='Building an AP network', max=750, style=ProgressStyle(descrip…"
      ]
     },
     "metadata": {},
     "output_type": "display_data"
    },
    {
     "data": {
      "application/vnd.jupyter.widget-view+json": {
       "model_id": "e8d435180c6643709833a232d828cef9",
       "version_major": 2,
       "version_minor": 0
      },
      "text/plain": [
       "HBox(children=(IntProgress(value=0, description='Building an ER network', max=1000, style=ProgressStyle(descri…"
      ]
     },
     "metadata": {},
     "output_type": "display_data"
    },
    {
     "data": {
      "application/vnd.jupyter.widget-view+json": {
       "model_id": "9ad0c260fdb34e789bd751fbd8fe0781",
       "version_major": 2,
       "version_minor": 0
      },
      "text/plain": [
       "HBox(children=(IntProgress(value=0, description='Building a DPR network', max=1000, style=ProgressStyle(descri…"
      ]
     },
     "metadata": {},
     "output_type": "display_data"
    },
    {
     "data": {
      "application/vnd.jupyter.widget-view+json": {
       "model_id": "8200302b561348979152cdbf82bc1e49",
       "version_major": 2,
       "version_minor": 0
      },
      "text/plain": [
       "HBox(children=(IntProgress(value=0, description='Building an AP network', max=1000, style=ProgressStyle(descri…"
      ]
     },
     "metadata": {},
     "output_type": "display_data"
    }
   ],
   "source": [
    "# Networkx implementation\n",
    "\n",
    "t_nx_ER = []\n",
    "t_nx_DPR = []\n",
    "t_nx_AP = []\n",
    "\n",
    "for N_test in N_space:\n",
    "    test_ER = NetworkGeneration_nx(N_test,p,'ER')\n",
    "    test_DPR = NetworkGeneration_nx(N_test,p,'DPR',m=2)\n",
    "    test_AP = NetworkGeneration_nx(N_test,p,'AP',m=2)\n",
    "    start=time.time()\n",
    "    test_ER.build()\n",
    "    t_nx_ER.append(time.time()-start)\n",
    "    start=time.time()\n",
    "    test_DPR.build()\n",
    "    t_nx_DPR.append(time.time()-start)\n",
    "    start=time.time()\n",
    "    test_AP.build()\n",
    "    t_nx_AP.append(time.time()-start)"
   ]
  },
  {
   "cell_type": "code",
   "execution_count": 20,
   "metadata": {},
   "outputs": [
    {
     "data": {
      "image/png": "[encoded data removed]",
      "text/plain": [
       "<Figure size 432x288 with 1 Axes>"
      ]
     },
     "metadata": {},
     "output_type": "display_data"
    }
   ],
   "source": [
    "# Plot results\n",
    "\n",
    "plt.loglog(N_space,t_ER,'r--',label='ER, NZ')\n",
    "plt.loglog(N_space,t_DPR,'b--',label='DPR, NZ')\n",
    "plt.loglog(N_space,t_AP,'g--',label='AP, NZ')\n",
    "plt.loglog(N_space,t_nx_ER,'r',label='ER, nx')\n",
    "plt.loglog(N_space,t_nx_DPR,'b',label='DPR, nx')\n",
    "plt.loglog(N_space,t_nx_AP,'g',label='AP, nx')\n",
    "plt.ylabel('t(s)')\n",
    "plt.xlabel('N')\n",
    "plt.legend()\n",
    "plt.show()"
   ]
  }
 ],
 "metadata": {
  "kernelspec": {
   "display_name": "Python 3",
   "language": "python",
   "name": "python3"
  },
  "language_info": {
   "codemirror_mode": {
    "name": "ipython",
    "version": 3
   },
   "file_extension": ".py",
   "mimetype": "text/x-python",
   "name": "python",
   "nbconvert_exporter": "python",
   "pygments_lexer": "ipython3",
   "version": "3.6.7"
  }
 },
 "nbformat": 4,
 "nbformat_minor": 2
}
